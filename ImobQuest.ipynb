{
  "nbformat": 4,
  "nbformat_minor": 0,
  "metadata": {
    "colab": {
      "provenance": [],
      "authorship_tag": "ABX9TyOz58yud/eLZ+1i7FlliB5F",
      "include_colab_link": true
    },
    "kernelspec": {
      "name": "python3",
      "display_name": "Python 3"
    },
    "language_info": {
      "name": "python"
    }
  },
  "cells": [
    {
      "cell_type": "markdown",
      "metadata": {
        "id": "view-in-github",
        "colab_type": "text"
      },
      "source": [
        "<a href=\"https://colab.research.google.com/github/academiati-br/PRJ_ImersaoIA_ImobQuest/blob/main/ImobQuest.ipynb\" target=\"_parent\"><img src=\"https://colab.research.google.com/assets/colab-badge.svg\" alt=\"Open In Colab\"/></a>"
      ]
    },
    {
      "cell_type": "code",
      "execution_count": 1,
      "metadata": {
        "colab": {
          "base_uri": "https://localhost:8080/",
          "height": 373
        },
        "id": "-SLnAZEe632p",
        "outputId": "f439229c-897d-4bf1-f667-80fcca9471c6"
      },
      "outputs": [
        {
          "output_type": "stream",
          "name": "stdout",
          "text": [
            "Mounted at /content/drive\n"
          ]
        },
        {
          "output_type": "error",
          "ename": "FileNotFoundError",
          "evalue": "[Errno 2] No such file or directory: '/content/drive/my-drive/Google AI Studio/01 - DADOS CRIMINAIS_JAN_2024.xlsx'",
          "traceback": [
            "\u001b[0;31m---------------------------------------------------------------------------\u001b[0m",
            "\u001b[0;31mFileNotFoundError\u001b[0m                         Traceback (most recent call last)",
            "\u001b[0;32m<ipython-input-1-73acd6983420>\u001b[0m in \u001b[0;36m<cell line: 16>\u001b[0;34m()\u001b[0m\n\u001b[1;32m     14\u001b[0m \u001b[0mdrive\u001b[0m\u001b[0;34m.\u001b[0m\u001b[0mmount\u001b[0m\u001b[0;34m(\u001b[0m\u001b[0;34m'/content/drive'\u001b[0m\u001b[0;34m)\u001b[0m\u001b[0;34m\u001b[0m\u001b[0;34m\u001b[0m\u001b[0m\n\u001b[1;32m     15\u001b[0m \u001b[0mfilepath\u001b[0m \u001b[0;34m=\u001b[0m \u001b[0;34m'/content/drive/my-drive/Google AI Studio/01 - DADOS CRIMINAIS_JAN_2024.xlsx'\u001b[0m\u001b[0;34m\u001b[0m\u001b[0;34m\u001b[0m\u001b[0m\n\u001b[0;32m---> 16\u001b[0;31m \u001b[0mdados\u001b[0m \u001b[0;34m=\u001b[0m \u001b[0mpd\u001b[0m\u001b[0;34m.\u001b[0m\u001b[0mread_excel\u001b[0m\u001b[0;34m(\u001b[0m\u001b[0mfilepath\u001b[0m\u001b[0;34m)\u001b[0m\u001b[0;34m\u001b[0m\u001b[0;34m\u001b[0m\u001b[0m\n\u001b[0m\u001b[1;32m     17\u001b[0m \u001b[0;32mfrom\u001b[0m \u001b[0mgoogle\u001b[0m\u001b[0;34m.\u001b[0m\u001b[0mcolab\u001b[0m \u001b[0;32mimport\u001b[0m \u001b[0muserdata\u001b[0m\u001b[0;34m\u001b[0m\u001b[0;34m\u001b[0m\u001b[0m\n\u001b[1;32m     18\u001b[0m \u001b[0mapi_key\u001b[0m \u001b[0;34m=\u001b[0m \u001b[0muserdata\u001b[0m\u001b[0;34m.\u001b[0m\u001b[0mget\u001b[0m\u001b[0;34m(\u001b[0m\u001b[0;34m\"SECRET_KEY\"\u001b[0m\u001b[0;34m)\u001b[0m \u001b[0;31m#criado secret key atraves da opcao Chave na barra esquerda do Colab para ocultar a API do github e users\u001b[0m\u001b[0;34m\u001b[0m\u001b[0;34m\u001b[0m\u001b[0m\n",
            "\u001b[0;32m/usr/local/lib/python3.10/dist-packages/pandas/io/excel/_base.py\u001b[0m in \u001b[0;36mread_excel\u001b[0;34m(io, sheet_name, header, names, index_col, usecols, dtype, engine, converters, true_values, false_values, skiprows, nrows, na_values, keep_default_na, na_filter, verbose, parse_dates, date_parser, date_format, thousands, decimal, comment, skipfooter, storage_options, dtype_backend)\u001b[0m\n\u001b[1;32m    476\u001b[0m     \u001b[0;32mif\u001b[0m \u001b[0;32mnot\u001b[0m \u001b[0misinstance\u001b[0m\u001b[0;34m(\u001b[0m\u001b[0mio\u001b[0m\u001b[0;34m,\u001b[0m \u001b[0mExcelFile\u001b[0m\u001b[0;34m)\u001b[0m\u001b[0;34m:\u001b[0m\u001b[0;34m\u001b[0m\u001b[0;34m\u001b[0m\u001b[0m\n\u001b[1;32m    477\u001b[0m         \u001b[0mshould_close\u001b[0m \u001b[0;34m=\u001b[0m \u001b[0;32mTrue\u001b[0m\u001b[0;34m\u001b[0m\u001b[0;34m\u001b[0m\u001b[0m\n\u001b[0;32m--> 478\u001b[0;31m         \u001b[0mio\u001b[0m \u001b[0;34m=\u001b[0m \u001b[0mExcelFile\u001b[0m\u001b[0;34m(\u001b[0m\u001b[0mio\u001b[0m\u001b[0;34m,\u001b[0m \u001b[0mstorage_options\u001b[0m\u001b[0;34m=\u001b[0m\u001b[0mstorage_options\u001b[0m\u001b[0;34m,\u001b[0m \u001b[0mengine\u001b[0m\u001b[0;34m=\u001b[0m\u001b[0mengine\u001b[0m\u001b[0;34m)\u001b[0m\u001b[0;34m\u001b[0m\u001b[0;34m\u001b[0m\u001b[0m\n\u001b[0m\u001b[1;32m    479\u001b[0m     \u001b[0;32melif\u001b[0m \u001b[0mengine\u001b[0m \u001b[0;32mand\u001b[0m \u001b[0mengine\u001b[0m \u001b[0;34m!=\u001b[0m \u001b[0mio\u001b[0m\u001b[0;34m.\u001b[0m\u001b[0mengine\u001b[0m\u001b[0;34m:\u001b[0m\u001b[0;34m\u001b[0m\u001b[0;34m\u001b[0m\u001b[0m\n\u001b[1;32m    480\u001b[0m         raise ValueError(\n",
            "\u001b[0;32m/usr/local/lib/python3.10/dist-packages/pandas/io/excel/_base.py\u001b[0m in \u001b[0;36m__init__\u001b[0;34m(self, path_or_buffer, engine, storage_options)\u001b[0m\n\u001b[1;32m   1494\u001b[0m                 \u001b[0mext\u001b[0m \u001b[0;34m=\u001b[0m \u001b[0;34m\"xls\"\u001b[0m\u001b[0;34m\u001b[0m\u001b[0;34m\u001b[0m\u001b[0m\n\u001b[1;32m   1495\u001b[0m             \u001b[0;32melse\u001b[0m\u001b[0;34m:\u001b[0m\u001b[0;34m\u001b[0m\u001b[0;34m\u001b[0m\u001b[0m\n\u001b[0;32m-> 1496\u001b[0;31m                 ext = inspect_excel_format(\n\u001b[0m\u001b[1;32m   1497\u001b[0m                     \u001b[0mcontent_or_path\u001b[0m\u001b[0;34m=\u001b[0m\u001b[0mpath_or_buffer\u001b[0m\u001b[0;34m,\u001b[0m \u001b[0mstorage_options\u001b[0m\u001b[0;34m=\u001b[0m\u001b[0mstorage_options\u001b[0m\u001b[0;34m\u001b[0m\u001b[0;34m\u001b[0m\u001b[0m\n\u001b[1;32m   1498\u001b[0m                 )\n",
            "\u001b[0;32m/usr/local/lib/python3.10/dist-packages/pandas/io/excel/_base.py\u001b[0m in \u001b[0;36minspect_excel_format\u001b[0;34m(content_or_path, storage_options)\u001b[0m\n\u001b[1;32m   1369\u001b[0m         \u001b[0mcontent_or_path\u001b[0m \u001b[0;34m=\u001b[0m \u001b[0mBytesIO\u001b[0m\u001b[0;34m(\u001b[0m\u001b[0mcontent_or_path\u001b[0m\u001b[0;34m)\u001b[0m\u001b[0;34m\u001b[0m\u001b[0;34m\u001b[0m\u001b[0m\n\u001b[1;32m   1370\u001b[0m \u001b[0;34m\u001b[0m\u001b[0m\n\u001b[0;32m-> 1371\u001b[0;31m     with get_handle(\n\u001b[0m\u001b[1;32m   1372\u001b[0m         \u001b[0mcontent_or_path\u001b[0m\u001b[0;34m,\u001b[0m \u001b[0;34m\"rb\"\u001b[0m\u001b[0;34m,\u001b[0m \u001b[0mstorage_options\u001b[0m\u001b[0;34m=\u001b[0m\u001b[0mstorage_options\u001b[0m\u001b[0;34m,\u001b[0m \u001b[0mis_text\u001b[0m\u001b[0;34m=\u001b[0m\u001b[0;32mFalse\u001b[0m\u001b[0;34m\u001b[0m\u001b[0;34m\u001b[0m\u001b[0m\n\u001b[1;32m   1373\u001b[0m     ) as handle:\n",
            "\u001b[0;32m/usr/local/lib/python3.10/dist-packages/pandas/io/common.py\u001b[0m in \u001b[0;36mget_handle\u001b[0;34m(path_or_buf, mode, encoding, compression, memory_map, is_text, errors, storage_options)\u001b[0m\n\u001b[1;32m    866\u001b[0m         \u001b[0;32melse\u001b[0m\u001b[0;34m:\u001b[0m\u001b[0;34m\u001b[0m\u001b[0;34m\u001b[0m\u001b[0m\n\u001b[1;32m    867\u001b[0m             \u001b[0;31m# Binary mode\u001b[0m\u001b[0;34m\u001b[0m\u001b[0;34m\u001b[0m\u001b[0m\n\u001b[0;32m--> 868\u001b[0;31m             \u001b[0mhandle\u001b[0m \u001b[0;34m=\u001b[0m \u001b[0mopen\u001b[0m\u001b[0;34m(\u001b[0m\u001b[0mhandle\u001b[0m\u001b[0;34m,\u001b[0m \u001b[0mioargs\u001b[0m\u001b[0;34m.\u001b[0m\u001b[0mmode\u001b[0m\u001b[0;34m)\u001b[0m\u001b[0;34m\u001b[0m\u001b[0;34m\u001b[0m\u001b[0m\n\u001b[0m\u001b[1;32m    869\u001b[0m         \u001b[0mhandles\u001b[0m\u001b[0;34m.\u001b[0m\u001b[0mappend\u001b[0m\u001b[0;34m(\u001b[0m\u001b[0mhandle\u001b[0m\u001b[0;34m)\u001b[0m\u001b[0;34m\u001b[0m\u001b[0;34m\u001b[0m\u001b[0m\n\u001b[1;32m    870\u001b[0m \u001b[0;34m\u001b[0m\u001b[0m\n",
            "\u001b[0;31mFileNotFoundError\u001b[0m: [Errno 2] No such file or directory: '/content/drive/my-drive/Google AI Studio/01 - DADOS CRIMINAIS_JAN_2024.xlsx'"
          ]
        }
      ],
      "source": [
        "\"\"\"\n",
        "At the command line, only need to run once to install the package via pip:\n",
        "\n",
        "$ pip install google-generativeai\n",
        "\"\"\"\n",
        "\n",
        "from pathlib import Path\n",
        "import pandas as pd\n",
        "from google.colab import drive\n",
        "import hashlib\n",
        "import google.generativeai as genai\n",
        "\n",
        "#começando aqui\n",
        "drive.mount('/content/drive')\n",
        "filepath = '/content/drive/my-drive/Google AI Studio/01 - DADOS CRIMINAIS_JAN_2024.xlsx'\n",
        "dados = pd.read_excel(filepath)\n",
        "from google.colab import userdata\n",
        "api_key = userdata.get(\"SECRET_KEY\") #criado secret key atraves da opcao Chave na barra esquerda do Colab para ocultar a API do github e users\n",
        "genai.configure(api_key=api_key)\n",
        "\n",
        "# Set up the model\n",
        "generation_config = {\n",
        "  \"temperature\": 1,\n",
        "  \"top_p\": 0.95,\n",
        "  \"top_k\": 0,\n",
        "  \"max_output_tokens\": 8192,\n",
        "}\n",
        "\n",
        "safety_settings = [\n",
        "  {\n",
        "    \"category\": \"HARM_CATEGORY_HARASSMENT\",\n",
        "    \"threshold\": \"BLOCK_NONE\"\n",
        "  },\n",
        "  {\n",
        "    \"category\": \"HARM_CATEGORY_HATE_SPEECH\",\n",
        "    \"threshold\": \"BLOCK_ONLY_HIGH\"\n",
        "  },\n",
        "  {\n",
        "    \"category\": \"HARM_CATEGORY_SEXUALLY_EXPLICIT\",\n",
        "    \"threshold\": \"BLOCK_NONE\"\n",
        "  },\n",
        "  {\n",
        "    \"category\": \"HARM_CATEGORY_DANGEROUS_CONTENT\",\n",
        "    \"threshold\": \"BLOCK_NONE\"\n",
        "  },\n",
        "]\n",
        "\n",
        "model = genai.GenerativeModel(model_name=\"gemini-1.5-pro-latest\",\n",
        "                              generation_config=generation_config,\n",
        "                              safety_settings=safety_settings)\n",
        "\n",
        "#isso será totalmente comentado#\n",
        "#def extract_pdf_pages(pathname: str) -> list[str]:\n",
        "#   parts = [f\"--- START OF PDF ${pathname} ---\"]\n",
        "  # Add logic to read the PDF and return a list of pages here.\n",
        " # pages = []\n",
        " # for index, page in enumerate(pages):\n",
        " #   parts.append(f\"--- PAGE {index} ---\")\n",
        " #   parts.append(page)\n",
        " # return parts\n",
        "\n",
        "#sugerido:\n",
        "dados = pd.read_excel(filepath)\n",
        "pages = dados.to_string(index=False).split('\\n')\n",
        "for page in pages:\n",
        "  parts.append(page)\n",
        "\n",
        "\n",
        "#original em diante\n",
        "convo = model.start_chat(history=[\n",
        "  {\n",
        "    \"role\": \"user\",\n",
        " #   \"parts\": extract_pdf_pages(\"<path>/document0.pdf\")\n",
        "    \"parts\": pd.read_excel(filepath)\n",
        "  },\n",
        "  {\n",
        "    \"role\": \"user\",\n",
        "    \"parts\": [\" o arquivo contém dados de ocorrencias em diversas cidades, quantificados para o ano de 2024, mês 1 (janeiro) e também o mês 1 de 2023. Na coluna Natureza2 há o tipo de ocorrência. A coluna do ano, a quantidade referente à cada natureza de ocorrência. Na coluna DP temos a região, separada por bairros da cidade de são paulo, no qual o departamento de policia se encontra. \\n\\nTomando os dados de 2024 para o DP da Sé temos os seguintes números:\\n773,286,22,3,1\\nRespectivamente, eles quantificam as ocorrências a seguir:\\nFURTO - OUTROS,ROUBO - OUTROS,FURTO DE VEÍCULO,ROUBO DE VEÍCULO,ESTUPRO DE VULNERÁVEL\\nQuando há uma outra natureza de ocorrência cujo valor está em branco na tabela, significa que não houve ocorrência do tipo, ou seja, zero (0).\\nPortanto, para a região do bairro da Sé, em São Paulo capital, temos o total de: 1085, que é resultado da soma de  773+286+22+3+1. \\n\\nNo arquivo tem dezenas de outros bairros da cidade de são paulo. Logo, quero que voce faça um ranking de 2024 para todos os bairros listados, mostrando inicialmente os top 15 bairros com o total somado de ocorrências.\"]\n",
        "  },\n",
        "  {\n",
        "    \"role\": \"model\",\n",
        "    \"parts\": [\"### Ranking dos 15 bairros com mais ocorrências em São Paulo - Janeiro/2024\\n\\nCom base nos dados fornecidos, aqui está o ranking dos 15 bairros de São Paulo com o maior número total de ocorrências em Janeiro de 2024:\\n\\n| Posição | Bairro                 | DP                        | Total Ocorrências |\\n|---------|------------------------|----------------------------|-------------------|\\n| 1º      | Sé                     | 001 DP - Sé                | 1085              |\\n| 2º      | Perdizes               | 023 DP - Perdizes           | 1012              |\\n| 3º      | Campos Elísios         | 003 DP - Campos Elísios     | 926               |\\n| 4º      | Pinheiros              | 014 DP - Pinheiros          | 889               |\\n| 5º      | Jardins                | 078 DP - Jardins            | 881               |\\n| 6º      | Consolação             | 004 DP - Consolação         | 791               |\\n| 7º      | Pari                   | 012 DP - Pari               | 721               |\\n| 8º      | Carandiru               | 009 DP - Carandiru           | 709               |\\n| 9º      | Santo Amaro            | 011 DP - Santo Amaro        | 654               |\\n| 10º     | Campo Limpo            | 037 DP - Campo Limpo        | 633               |\\n| 11º     | Capão Redondo          | 047 DP - Capão Redondo      | 593               |\\n| 12º     | Lapa                   | 007 DP - Lapa               | 545               |\\n| 13º     | Santa Cecília          | 077 DP - Santa Cecília      | 529               |\\n| 14º     | Aclimação              | 005 DP - Aclimação          | 525               |\\n| 15º     | Itaim Bibi             | 015 DP - Itaim Bibi         | 516               |\"]\n",
        "  },\n",
        "])\n",
        "\n",
        "convo.send_message(\"YOUR_USER_INPUT\")\n",
        "print(convo.last.text)"
      ]
    }
  ]
}